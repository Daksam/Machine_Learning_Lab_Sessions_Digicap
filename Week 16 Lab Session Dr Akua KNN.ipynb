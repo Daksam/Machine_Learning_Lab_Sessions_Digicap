{
 "cells": [
  {
   "cell_type": "code",
   "execution_count": 1,
   "id": "23c2ffd2",
   "metadata": {},
   "outputs": [],
   "source": [
    "#Importing Libraries \n",
    "import pandas as pd\n",
    "import numpy as np\n",
    "import matplotlib.pyplot as plt\n",
    "import seaborn as sn\n",
    "from sklearn.model_selection import train_test_split\n",
    "import scipy.stats\n",
    "from sklearn.neighbors import KNeighborsClassifier\n",
    "import os\n"
   ]
  },
  {
   "cell_type": "code",
   "execution_count": 2,
   "id": "ce2630d2",
   "metadata": {},
   "outputs": [],
   "source": [
    "#file directory\n",
    "os.chdir (r\"C:\\Users\\LENOVO\\Desktop\\Digicap\\data bank\")\n",
    "\n",
    "#Loading the csv data set file into jupyter\n",
    "#bc = pd.read_csv('bc2.csv')"
   ]
  },
  {
   "cell_type": "code",
   "execution_count": null,
   "id": "13032def",
   "metadata": {},
   "outputs": [],
   "source": []
  }
 ],
 "metadata": {
  "kernelspec": {
   "display_name": "Python 3 (ipykernel)",
   "language": "python",
   "name": "python3"
  },
  "language_info": {
   "codemirror_mode": {
    "name": "ipython",
    "version": 3
   },
   "file_extension": ".py",
   "mimetype": "text/x-python",
   "name": "python",
   "nbconvert_exporter": "python",
   "pygments_lexer": "ipython3",
   "version": "3.9.7"
  }
 },
 "nbformat": 4,
 "nbformat_minor": 5
}
