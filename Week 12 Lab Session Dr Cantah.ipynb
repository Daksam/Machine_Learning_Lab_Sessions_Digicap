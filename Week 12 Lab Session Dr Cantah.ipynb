{
 "cells": [
  {
   "cell_type": "code",
   "execution_count": 77,
   "id": "ef11d795",
   "metadata": {},
   "outputs": [],
   "source": [
    "#importing the needed libraries\n",
    "import os\n",
    "import pandas as pd\n",
    "import numpy as np\n",
    "import matplotlib.pyplot as plt\n",
    "import seaborn as sns\n",
    "import statsmodels.api as sm\n",
    "from sklearn.model_selection import train_test_split\n",
    "from sklearn.metrics import r2_score\n",
    "from sklearn import preprocessing\n",
    "from scipy import stats\n",
    "from sklearn.linear_model import LogisticRegression\n",
    "from sklearn.metrics import accuracy_score\n",
    "\n",
    "#try and import warning something\n",
    "os.chdir (r\"C:\\Users\\LENOVO\\Desktop\\Digicap\\data bank\")"
   ]
  },
  {
   "cell_type": "code",
   "execution_count": 29,
   "id": "32ce47c3",
   "metadata": {},
   "outputs": [
    {
     "data": {
      "text/html": [
       "<div>\n",
       "<style scoped>\n",
       "    .dataframe tbody tr th:only-of-type {\n",
       "        vertical-align: middle;\n",
       "    }\n",
       "\n",
       "    .dataframe tbody tr th {\n",
       "        vertical-align: top;\n",
       "    }\n",
       "\n",
       "    .dataframe thead th {\n",
       "        text-align: right;\n",
       "    }\n",
       "</style>\n",
       "<table border=\"1\" class=\"dataframe\">\n",
       "  <thead>\n",
       "    <tr style=\"text-align: right;\">\n",
       "      <th></th>\n",
       "      <th>crmrte</th>\n",
       "      <th>prbarr</th>\n",
       "      <th>prbconv</th>\n",
       "      <th>prbpris</th>\n",
       "      <th>polpc</th>\n",
       "      <th>density</th>\n",
       "      <th>urban</th>\n",
       "      <th>awage</th>\n",
       "      <th>lawage</th>\n",
       "      <th>crime</th>\n",
       "    </tr>\n",
       "  </thead>\n",
       "  <tbody>\n",
       "    <tr>\n",
       "      <th>0</th>\n",
       "      <td>0.039885</td>\n",
       "      <td>0.289696</td>\n",
       "      <td>0.402062</td>\n",
       "      <td>0.472222</td>\n",
       "      <td>0.001787</td>\n",
       "      <td>2.307159</td>\n",
       "      <td>0</td>\n",
       "      <td>257.4241</td>\n",
       "      <td>5.550725</td>\n",
       "      <td>1</td>\n",
       "    </tr>\n",
       "    <tr>\n",
       "      <th>1</th>\n",
       "      <td>0.038345</td>\n",
       "      <td>0.338111</td>\n",
       "      <td>0.433005</td>\n",
       "      <td>0.506993</td>\n",
       "      <td>0.001767</td>\n",
       "      <td>2.330254</td>\n",
       "      <td>0</td>\n",
       "      <td>272.7497</td>\n",
       "      <td>5.608555</td>\n",
       "      <td>1</td>\n",
       "    </tr>\n",
       "    <tr>\n",
       "      <th>2</th>\n",
       "      <td>0.030305</td>\n",
       "      <td>0.330449</td>\n",
       "      <td>0.525703</td>\n",
       "      <td>0.479705</td>\n",
       "      <td>0.001836</td>\n",
       "      <td>2.341801</td>\n",
       "      <td>0</td>\n",
       "      <td>396.5378</td>\n",
       "      <td>5.982771</td>\n",
       "      <td>0</td>\n",
       "    </tr>\n",
       "    <tr>\n",
       "      <th>3</th>\n",
       "      <td>0.034726</td>\n",
       "      <td>0.362525</td>\n",
       "      <td>0.604706</td>\n",
       "      <td>0.520104</td>\n",
       "      <td>0.001886</td>\n",
       "      <td>2.346420</td>\n",
       "      <td>0</td>\n",
       "      <td>299.1779</td>\n",
       "      <td>5.701038</td>\n",
       "      <td>1</td>\n",
       "    </tr>\n",
       "    <tr>\n",
       "      <th>4</th>\n",
       "      <td>0.036573</td>\n",
       "      <td>0.325395</td>\n",
       "      <td>0.578723</td>\n",
       "      <td>0.497059</td>\n",
       "      <td>0.001924</td>\n",
       "      <td>2.364896</td>\n",
       "      <td>0</td>\n",
       "      <td>312.5454</td>\n",
       "      <td>5.744750</td>\n",
       "      <td>1</td>\n",
       "    </tr>\n",
       "    <tr>\n",
       "      <th>...</th>\n",
       "      <td>...</td>\n",
       "      <td>...</td>\n",
       "      <td>...</td>\n",
       "      <td>...</td>\n",
       "      <td>...</td>\n",
       "      <td>...</td>\n",
       "      <td>...</td>\n",
       "      <td>...</td>\n",
       "      <td>...</td>\n",
       "      <td>...</td>\n",
       "    </tr>\n",
       "    <tr>\n",
       "      <th>625</th>\n",
       "      <td>0.015575</td>\n",
       "      <td>0.226667</td>\n",
       "      <td>0.480392</td>\n",
       "      <td>0.428571</td>\n",
       "      <td>0.001073</td>\n",
       "      <td>0.869048</td>\n",
       "      <td>0</td>\n",
       "      <td>257.8611</td>\n",
       "      <td>5.552421</td>\n",
       "      <td>0</td>\n",
       "    </tr>\n",
       "    <tr>\n",
       "      <th>626</th>\n",
       "      <td>0.013662</td>\n",
       "      <td>0.204188</td>\n",
       "      <td>1.410260</td>\n",
       "      <td>0.372727</td>\n",
       "      <td>0.001109</td>\n",
       "      <td>0.872024</td>\n",
       "      <td>0</td>\n",
       "      <td>264.0230</td>\n",
       "      <td>5.576036</td>\n",
       "      <td>0</td>\n",
       "    </tr>\n",
       "    <tr>\n",
       "      <th>627</th>\n",
       "      <td>0.013086</td>\n",
       "      <td>0.180556</td>\n",
       "      <td>0.830769</td>\n",
       "      <td>0.333333</td>\n",
       "      <td>0.001054</td>\n",
       "      <td>0.875000</td>\n",
       "      <td>0</td>\n",
       "      <td>272.6564</td>\n",
       "      <td>5.608212</td>\n",
       "      <td>0</td>\n",
       "    </tr>\n",
       "    <tr>\n",
       "      <th>628</th>\n",
       "      <td>0.012874</td>\n",
       "      <td>0.112676</td>\n",
       "      <td>2.250000</td>\n",
       "      <td>0.244444</td>\n",
       "      <td>0.001088</td>\n",
       "      <td>0.880952</td>\n",
       "      <td>0</td>\n",
       "      <td>293.9274</td>\n",
       "      <td>5.683333</td>\n",
       "      <td>0</td>\n",
       "    </tr>\n",
       "    <tr>\n",
       "      <th>629</th>\n",
       "      <td>0.014193</td>\n",
       "      <td>0.207595</td>\n",
       "      <td>1.182930</td>\n",
       "      <td>0.360825</td>\n",
       "      <td>0.001186</td>\n",
       "      <td>0.889881</td>\n",
       "      <td>0</td>\n",
       "      <td>311.8836</td>\n",
       "      <td>5.742630</td>\n",
       "      <td>0</td>\n",
       "    </tr>\n",
       "  </tbody>\n",
       "</table>\n",
       "<p>630 rows × 10 columns</p>\n",
       "</div>"
      ],
      "text/plain": [
       "       crmrte    prbarr   prbconv   prbpris     polpc   density  urban  \\\n",
       "0    0.039885  0.289696  0.402062  0.472222  0.001787  2.307159      0   \n",
       "1    0.038345  0.338111  0.433005  0.506993  0.001767  2.330254      0   \n",
       "2    0.030305  0.330449  0.525703  0.479705  0.001836  2.341801      0   \n",
       "3    0.034726  0.362525  0.604706  0.520104  0.001886  2.346420      0   \n",
       "4    0.036573  0.325395  0.578723  0.497059  0.001924  2.364896      0   \n",
       "..        ...       ...       ...       ...       ...       ...    ...   \n",
       "625  0.015575  0.226667  0.480392  0.428571  0.001073  0.869048      0   \n",
       "626  0.013662  0.204188  1.410260  0.372727  0.001109  0.872024      0   \n",
       "627  0.013086  0.180556  0.830769  0.333333  0.001054  0.875000      0   \n",
       "628  0.012874  0.112676  2.250000  0.244444  0.001088  0.880952      0   \n",
       "629  0.014193  0.207595  1.182930  0.360825  0.001186  0.889881      0   \n",
       "\n",
       "        awage    lawage  crime  \n",
       "0    257.4241  5.550725      1  \n",
       "1    272.7497  5.608555      1  \n",
       "2    396.5378  5.982771      0  \n",
       "3    299.1779  5.701038      1  \n",
       "4    312.5454  5.744750      1  \n",
       "..        ...       ...    ...  \n",
       "625  257.8611  5.552421      0  \n",
       "626  264.0230  5.576036      0  \n",
       "627  272.6564  5.608212      0  \n",
       "628  293.9274  5.683333      0  \n",
       "629  311.8836  5.742630      0  \n",
       "\n",
       "[630 rows x 10 columns]"
      ]
     },
     "execution_count": 29,
     "metadata": {},
     "output_type": "execute_result"
    }
   ],
   "source": [
    "#reading the data file\n",
    "df = pd.read_csv(\"dataforclass.csv\")\n",
    "df"
   ]
  },
  {
   "cell_type": "code",
   "execution_count": 30,
   "id": "a43b56ea",
   "metadata": {},
   "outputs": [
    {
     "data": {
      "text/html": [
       "<div>\n",
       "<style scoped>\n",
       "    .dataframe tbody tr th:only-of-type {\n",
       "        vertical-align: middle;\n",
       "    }\n",
       "\n",
       "    .dataframe tbody tr th {\n",
       "        vertical-align: top;\n",
       "    }\n",
       "\n",
       "    .dataframe thead th {\n",
       "        text-align: right;\n",
       "    }\n",
       "</style>\n",
       "<table border=\"1\" class=\"dataframe\">\n",
       "  <thead>\n",
       "    <tr style=\"text-align: right;\">\n",
       "      <th></th>\n",
       "      <th>crmrte</th>\n",
       "      <th>prbarr</th>\n",
       "      <th>prbconv</th>\n",
       "      <th>prbpris</th>\n",
       "      <th>polpc</th>\n",
       "      <th>density</th>\n",
       "      <th>urban</th>\n",
       "      <th>awage</th>\n",
       "      <th>lawage</th>\n",
       "      <th>crime</th>\n",
       "    </tr>\n",
       "  </thead>\n",
       "  <tbody>\n",
       "    <tr>\n",
       "      <th>count</th>\n",
       "      <td>630.000000</td>\n",
       "      <td>630.000000</td>\n",
       "      <td>630.000000</td>\n",
       "      <td>630.000000</td>\n",
       "      <td>630.000000</td>\n",
       "      <td>630.000000</td>\n",
       "      <td>630.000000</td>\n",
       "      <td>630.000000</td>\n",
       "      <td>630.000000</td>\n",
       "      <td>630.000000</td>\n",
       "    </tr>\n",
       "    <tr>\n",
       "      <th>mean</th>\n",
       "      <td>0.031588</td>\n",
       "      <td>0.307368</td>\n",
       "      <td>0.688618</td>\n",
       "      <td>0.425518</td>\n",
       "      <td>0.001917</td>\n",
       "      <td>1.386062</td>\n",
       "      <td>0.088889</td>\n",
       "      <td>287.252366</td>\n",
       "      <td>5.645461</td>\n",
       "      <td>0.384127</td>\n",
       "    </tr>\n",
       "    <tr>\n",
       "      <th>std</th>\n",
       "      <td>0.018121</td>\n",
       "      <td>0.171205</td>\n",
       "      <td>1.690345</td>\n",
       "      <td>0.087245</td>\n",
       "      <td>0.002735</td>\n",
       "      <td>1.439703</td>\n",
       "      <td>0.284809</td>\n",
       "      <td>52.089845</td>\n",
       "      <td>0.169575</td>\n",
       "      <td>0.486775</td>\n",
       "    </tr>\n",
       "    <tr>\n",
       "      <th>min</th>\n",
       "      <td>0.001812</td>\n",
       "      <td>0.058824</td>\n",
       "      <td>0.068376</td>\n",
       "      <td>0.148936</td>\n",
       "      <td>0.000458</td>\n",
       "      <td>0.197719</td>\n",
       "      <td>0.000000</td>\n",
       "      <td>194.567500</td>\n",
       "      <td>5.270779</td>\n",
       "      <td>0.000000</td>\n",
       "    </tr>\n",
       "    <tr>\n",
       "      <th>25%</th>\n",
       "      <td>0.018352</td>\n",
       "      <td>0.217902</td>\n",
       "      <td>0.347692</td>\n",
       "      <td>0.374403</td>\n",
       "      <td>0.001191</td>\n",
       "      <td>0.532944</td>\n",
       "      <td>0.000000</td>\n",
       "      <td>251.727075</td>\n",
       "      <td>5.528345</td>\n",
       "      <td>0.000000</td>\n",
       "    </tr>\n",
       "    <tr>\n",
       "      <th>50%</th>\n",
       "      <td>0.028441</td>\n",
       "      <td>0.278240</td>\n",
       "      <td>0.474375</td>\n",
       "      <td>0.428571</td>\n",
       "      <td>0.001451</td>\n",
       "      <td>0.952595</td>\n",
       "      <td>0.000000</td>\n",
       "      <td>279.948650</td>\n",
       "      <td>5.634606</td>\n",
       "      <td>0.000000</td>\n",
       "    </tr>\n",
       "    <tr>\n",
       "      <th>75%</th>\n",
       "      <td>0.038406</td>\n",
       "      <td>0.352518</td>\n",
       "      <td>0.635597</td>\n",
       "      <td>0.483189</td>\n",
       "      <td>0.001803</td>\n",
       "      <td>1.507818</td>\n",
       "      <td>0.000000</td>\n",
       "      <td>313.312025</td>\n",
       "      <td>5.747200</td>\n",
       "      <td>1.000000</td>\n",
       "    </tr>\n",
       "    <tr>\n",
       "      <th>max</th>\n",
       "      <td>0.163835</td>\n",
       "      <td>2.750000</td>\n",
       "      <td>37.000000</td>\n",
       "      <td>0.678571</td>\n",
       "      <td>0.035578</td>\n",
       "      <td>8.827652</td>\n",
       "      <td>1.000000</td>\n",
       "      <td>584.949900</td>\n",
       "      <td>6.371526</td>\n",
       "      <td>1.000000</td>\n",
       "    </tr>\n",
       "  </tbody>\n",
       "</table>\n",
       "</div>"
      ],
      "text/plain": [
       "           crmrte      prbarr     prbconv     prbpris       polpc     density  \\\n",
       "count  630.000000  630.000000  630.000000  630.000000  630.000000  630.000000   \n",
       "mean     0.031588    0.307368    0.688618    0.425518    0.001917    1.386062   \n",
       "std      0.018121    0.171205    1.690345    0.087245    0.002735    1.439703   \n",
       "min      0.001812    0.058824    0.068376    0.148936    0.000458    0.197719   \n",
       "25%      0.018352    0.217902    0.347692    0.374403    0.001191    0.532944   \n",
       "50%      0.028441    0.278240    0.474375    0.428571    0.001451    0.952595   \n",
       "75%      0.038406    0.352518    0.635597    0.483189    0.001803    1.507818   \n",
       "max      0.163835    2.750000   37.000000    0.678571    0.035578    8.827652   \n",
       "\n",
       "            urban       awage      lawage       crime  \n",
       "count  630.000000  630.000000  630.000000  630.000000  \n",
       "mean     0.088889  287.252366    5.645461    0.384127  \n",
       "std      0.284809   52.089845    0.169575    0.486775  \n",
       "min      0.000000  194.567500    5.270779    0.000000  \n",
       "25%      0.000000  251.727075    5.528345    0.000000  \n",
       "50%      0.000000  279.948650    5.634606    0.000000  \n",
       "75%      0.000000  313.312025    5.747200    1.000000  \n",
       "max      1.000000  584.949900    6.371526    1.000000  "
      ]
     },
     "execution_count": 30,
     "metadata": {},
     "output_type": "execute_result"
    }
   ],
   "source": [
    "#describing the data\n",
    "df.describe()"
   ]
  },
  {
   "cell_type": "code",
   "execution_count": 31,
   "id": "61fb42ce",
   "metadata": {},
   "outputs": [
    {
     "data": {
      "text/html": [
       "<div>\n",
       "<style scoped>\n",
       "    .dataframe tbody tr th:only-of-type {\n",
       "        vertical-align: middle;\n",
       "    }\n",
       "\n",
       "    .dataframe tbody tr th {\n",
       "        vertical-align: top;\n",
       "    }\n",
       "\n",
       "    .dataframe thead th {\n",
       "        text-align: right;\n",
       "    }\n",
       "</style>\n",
       "<table border=\"1\" class=\"dataframe\">\n",
       "  <thead>\n",
       "    <tr style=\"text-align: right;\">\n",
       "      <th></th>\n",
       "      <th>crmrte</th>\n",
       "      <th>prbarr</th>\n",
       "      <th>prbconv</th>\n",
       "      <th>prbpris</th>\n",
       "      <th>polpc</th>\n",
       "      <th>density</th>\n",
       "      <th>urban</th>\n",
       "      <th>awage</th>\n",
       "      <th>lawage</th>\n",
       "      <th>crime</th>\n",
       "    </tr>\n",
       "  </thead>\n",
       "  <tbody>\n",
       "    <tr>\n",
       "      <th>0</th>\n",
       "      <td>0.039885</td>\n",
       "      <td>0.289696</td>\n",
       "      <td>0.402062</td>\n",
       "      <td>0.472222</td>\n",
       "      <td>0.001787</td>\n",
       "      <td>2.307159</td>\n",
       "      <td>0</td>\n",
       "      <td>257.4241</td>\n",
       "      <td>5.550725</td>\n",
       "      <td>1</td>\n",
       "    </tr>\n",
       "    <tr>\n",
       "      <th>1</th>\n",
       "      <td>0.038345</td>\n",
       "      <td>0.338111</td>\n",
       "      <td>0.433005</td>\n",
       "      <td>0.506993</td>\n",
       "      <td>0.001767</td>\n",
       "      <td>2.330254</td>\n",
       "      <td>0</td>\n",
       "      <td>272.7497</td>\n",
       "      <td>5.608555</td>\n",
       "      <td>1</td>\n",
       "    </tr>\n",
       "    <tr>\n",
       "      <th>2</th>\n",
       "      <td>0.030305</td>\n",
       "      <td>0.330449</td>\n",
       "      <td>0.525703</td>\n",
       "      <td>0.479705</td>\n",
       "      <td>0.001836</td>\n",
       "      <td>2.341801</td>\n",
       "      <td>0</td>\n",
       "      <td>396.5378</td>\n",
       "      <td>5.982771</td>\n",
       "      <td>0</td>\n",
       "    </tr>\n",
       "    <tr>\n",
       "      <th>3</th>\n",
       "      <td>0.034726</td>\n",
       "      <td>0.362525</td>\n",
       "      <td>0.604706</td>\n",
       "      <td>0.520104</td>\n",
       "      <td>0.001886</td>\n",
       "      <td>2.346420</td>\n",
       "      <td>0</td>\n",
       "      <td>299.1779</td>\n",
       "      <td>5.701038</td>\n",
       "      <td>1</td>\n",
       "    </tr>\n",
       "    <tr>\n",
       "      <th>4</th>\n",
       "      <td>0.036573</td>\n",
       "      <td>0.325395</td>\n",
       "      <td>0.578723</td>\n",
       "      <td>0.497059</td>\n",
       "      <td>0.001924</td>\n",
       "      <td>2.364896</td>\n",
       "      <td>0</td>\n",
       "      <td>312.5454</td>\n",
       "      <td>5.744750</td>\n",
       "      <td>1</td>\n",
       "    </tr>\n",
       "  </tbody>\n",
       "</table>\n",
       "</div>"
      ],
      "text/plain": [
       "     crmrte    prbarr   prbconv   prbpris     polpc   density  urban  \\\n",
       "0  0.039885  0.289696  0.402062  0.472222  0.001787  2.307159      0   \n",
       "1  0.038345  0.338111  0.433005  0.506993  0.001767  2.330254      0   \n",
       "2  0.030305  0.330449  0.525703  0.479705  0.001836  2.341801      0   \n",
       "3  0.034726  0.362525  0.604706  0.520104  0.001886  2.346420      0   \n",
       "4  0.036573  0.325395  0.578723  0.497059  0.001924  2.364896      0   \n",
       "\n",
       "      awage    lawage  crime  \n",
       "0  257.4241  5.550725      1  \n",
       "1  272.7497  5.608555      1  \n",
       "2  396.5378  5.982771      0  \n",
       "3  299.1779  5.701038      1  \n",
       "4  312.5454  5.744750      1  "
      ]
     },
     "execution_count": 31,
     "metadata": {},
     "output_type": "execute_result"
    }
   ],
   "source": [
    "df.head(5)"
   ]
  },
  {
   "cell_type": "code",
   "execution_count": 32,
   "id": "fb1f1152",
   "metadata": {},
   "outputs": [
    {
     "data": {
      "text/html": [
       "<div>\n",
       "<style scoped>\n",
       "    .dataframe tbody tr th:only-of-type {\n",
       "        vertical-align: middle;\n",
       "    }\n",
       "\n",
       "    .dataframe tbody tr th {\n",
       "        vertical-align: top;\n",
       "    }\n",
       "\n",
       "    .dataframe thead th {\n",
       "        text-align: right;\n",
       "    }\n",
       "</style>\n",
       "<table border=\"1\" class=\"dataframe\">\n",
       "  <thead>\n",
       "    <tr style=\"text-align: right;\">\n",
       "      <th></th>\n",
       "      <th>crmrte</th>\n",
       "      <th>prbarr</th>\n",
       "      <th>prbconv</th>\n",
       "      <th>prbpris</th>\n",
       "      <th>polpc</th>\n",
       "      <th>density</th>\n",
       "      <th>urban</th>\n",
       "      <th>awage</th>\n",
       "      <th>lawage</th>\n",
       "      <th>crime</th>\n",
       "    </tr>\n",
       "  </thead>\n",
       "  <tbody>\n",
       "    <tr>\n",
       "      <th>625</th>\n",
       "      <td>0.015575</td>\n",
       "      <td>0.226667</td>\n",
       "      <td>0.480392</td>\n",
       "      <td>0.428571</td>\n",
       "      <td>0.001073</td>\n",
       "      <td>0.869048</td>\n",
       "      <td>0</td>\n",
       "      <td>257.8611</td>\n",
       "      <td>5.552421</td>\n",
       "      <td>0</td>\n",
       "    </tr>\n",
       "    <tr>\n",
       "      <th>626</th>\n",
       "      <td>0.013662</td>\n",
       "      <td>0.204188</td>\n",
       "      <td>1.410260</td>\n",
       "      <td>0.372727</td>\n",
       "      <td>0.001109</td>\n",
       "      <td>0.872024</td>\n",
       "      <td>0</td>\n",
       "      <td>264.0230</td>\n",
       "      <td>5.576036</td>\n",
       "      <td>0</td>\n",
       "    </tr>\n",
       "    <tr>\n",
       "      <th>627</th>\n",
       "      <td>0.013086</td>\n",
       "      <td>0.180556</td>\n",
       "      <td>0.830769</td>\n",
       "      <td>0.333333</td>\n",
       "      <td>0.001054</td>\n",
       "      <td>0.875000</td>\n",
       "      <td>0</td>\n",
       "      <td>272.6564</td>\n",
       "      <td>5.608212</td>\n",
       "      <td>0</td>\n",
       "    </tr>\n",
       "    <tr>\n",
       "      <th>628</th>\n",
       "      <td>0.012874</td>\n",
       "      <td>0.112676</td>\n",
       "      <td>2.250000</td>\n",
       "      <td>0.244444</td>\n",
       "      <td>0.001088</td>\n",
       "      <td>0.880952</td>\n",
       "      <td>0</td>\n",
       "      <td>293.9274</td>\n",
       "      <td>5.683333</td>\n",
       "      <td>0</td>\n",
       "    </tr>\n",
       "    <tr>\n",
       "      <th>629</th>\n",
       "      <td>0.014193</td>\n",
       "      <td>0.207595</td>\n",
       "      <td>1.182930</td>\n",
       "      <td>0.360825</td>\n",
       "      <td>0.001186</td>\n",
       "      <td>0.889881</td>\n",
       "      <td>0</td>\n",
       "      <td>311.8836</td>\n",
       "      <td>5.742630</td>\n",
       "      <td>0</td>\n",
       "    </tr>\n",
       "  </tbody>\n",
       "</table>\n",
       "</div>"
      ],
      "text/plain": [
       "       crmrte    prbarr   prbconv   prbpris     polpc   density  urban  \\\n",
       "625  0.015575  0.226667  0.480392  0.428571  0.001073  0.869048      0   \n",
       "626  0.013662  0.204188  1.410260  0.372727  0.001109  0.872024      0   \n",
       "627  0.013086  0.180556  0.830769  0.333333  0.001054  0.875000      0   \n",
       "628  0.012874  0.112676  2.250000  0.244444  0.001088  0.880952      0   \n",
       "629  0.014193  0.207595  1.182930  0.360825  0.001186  0.889881      0   \n",
       "\n",
       "        awage    lawage  crime  \n",
       "625  257.8611  5.552421      0  \n",
       "626  264.0230  5.576036      0  \n",
       "627  272.6564  5.608212      0  \n",
       "628  293.9274  5.683333      0  \n",
       "629  311.8836  5.742630      0  "
      ]
     },
     "execution_count": 32,
     "metadata": {},
     "output_type": "execute_result"
    }
   ],
   "source": [
    "df.tail(5)"
   ]
  },
  {
   "cell_type": "code",
   "execution_count": 33,
   "id": "b7f8c852",
   "metadata": {},
   "outputs": [],
   "source": [
    "#df.drop('prbarr'>1) #, df['prbconv'>1], df['prbpris'])"
   ]
  },
  {
   "cell_type": "code",
   "execution_count": 36,
   "id": "b662654d",
   "metadata": {},
   "outputs": [
    {
     "data": {
      "image/png": "[encoded data removed]",
      "text/plain": [
       "<Figure size 432x288 with 2 Axes>"
      ]
     },
     "metadata": {
      "needs_background": "light"
     },
     "output_type": "display_data"
    }
   ],
   "source": [
    "sns.heatmap(df.corr(), cmap='YlGnBu', annot=True,)\n",
    "plt.show()"
   ]
  },
  {
   "cell_type": "markdown",
   "id": "52d3932d",
   "metadata": {},
   "source": [
    "## simple linear regresion"
   ]
  },
  {
   "cell_type": "code",
   "execution_count": 37,
   "id": "b83bb2ce",
   "metadata": {},
   "outputs": [],
   "source": [
    "y=df['crmrte']\n",
    "x=df['density']\n"
   ]
  },
  {
   "cell_type": "code",
   "execution_count": 39,
   "id": "5efce67f",
   "metadata": {},
   "outputs": [],
   "source": [
    "x_train, x_test, y_train, y_test=train_test_split(x,y,train_size=0.6, test_size=0.4, random_state=100)"
   ]
  },
  {
   "cell_type": "code",
   "execution_count": 40,
   "id": "9ffaaa74",
   "metadata": {},
   "outputs": [
    {
     "name": "stderr",
     "output_type": "stream",
     "text": [
      "C:\\Users\\LENOVO\\anaconda\\lib\\site-packages\\statsmodels\\tsa\\tsatools.py:142: FutureWarning: In a future version of pandas all arguments of concat except for the argument 'objs' will be keyword-only\n",
      "  x = pd.concat(x[::order], 1)\n"
     ]
    }
   ],
   "source": [
    "x_train_sm=sm.add_constant(x_train)"
   ]
  },
  {
   "cell_type": "code",
   "execution_count": 41,
   "id": "424f8bf6",
   "metadata": {},
   "outputs": [],
   "source": [
    "crime_fr=sm.OLS(y_train, x_train_sm).fit()"
   ]
  },
  {
   "cell_type": "code",
   "execution_count": 43,
   "id": "35eb0569",
   "metadata": {},
   "outputs": [
    {
     "data": {
      "text/plain": [
       "const      0.019380\n",
       "density    0.008522\n",
       "dtype: float64"
      ]
     },
     "execution_count": 43,
     "metadata": {},
     "output_type": "execute_result"
    }
   ],
   "source": [
    "crime_fr.params"
   ]
  },
  {
   "cell_type": "code",
   "execution_count": 45,
   "id": "6a4a29c8",
   "metadata": {},
   "outputs": [
    {
     "data": {
      "text/html": [
       "<table class=\"simpletable\">\n",
       "<caption>OLS Regression Results</caption>\n",
       "<tr>\n",
       "  <th>Dep. Variable:</th>         <td>crmrte</td>      <th>  R-squared:         </th> <td>   0.454</td>\n",
       "</tr>\n",
       "<tr>\n",
       "  <th>Model:</th>                   <td>OLS</td>       <th>  Adj. R-squared:    </th> <td>   0.453</td>\n",
       "</tr>\n",
       "<tr>\n",
       "  <th>Method:</th>             <td>Least Squares</td>  <th>  F-statistic:       </th> <td>   312.8</td>\n",
       "</tr>\n",
       "<tr>\n",
       "  <th>Date:</th>             <td>Sat, 27 Aug 2022</td> <th>  Prob (F-statistic):</th> <td>2.31e-51</td>\n",
       "</tr>\n",
       "<tr>\n",
       "  <th>Time:</th>                 <td>11:54:25</td>     <th>  Log-Likelihood:    </th> <td>  1091.1</td>\n",
       "</tr>\n",
       "<tr>\n",
       "  <th>No. Observations:</th>      <td>   378</td>      <th>  AIC:               </th> <td>  -2178.</td>\n",
       "</tr>\n",
       "<tr>\n",
       "  <th>Df Residuals:</th>          <td>   376</td>      <th>  BIC:               </th> <td>  -2170.</td>\n",
       "</tr>\n",
       "<tr>\n",
       "  <th>Df Model:</th>              <td>     1</td>      <th>                     </th>     <td> </td>   \n",
       "</tr>\n",
       "<tr>\n",
       "  <th>Covariance Type:</th>      <td>nonrobust</td>    <th>                     </th>     <td> </td>   \n",
       "</tr>\n",
       "</table>\n",
       "<table class=\"simpletable\">\n",
       "<tr>\n",
       "     <td></td>        <th>coef</th>     <th>std err</th>      <th>t</th>      <th>P>|t|</th>  <th>[0.025</th>    <th>0.975]</th>  \n",
       "</tr>\n",
       "<tr>\n",
       "  <th>const</th>   <td>    0.0194</td> <td>    0.001</td> <td>   20.024</td> <td> 0.000</td> <td>    0.017</td> <td>    0.021</td>\n",
       "</tr>\n",
       "<tr>\n",
       "  <th>density</th> <td>    0.0085</td> <td>    0.000</td> <td>   17.685</td> <td> 0.000</td> <td>    0.008</td> <td>    0.009</td>\n",
       "</tr>\n",
       "</table>\n",
       "<table class=\"simpletable\">\n",
       "<tr>\n",
       "  <th>Omnibus:</th>       <td>360.906</td> <th>  Durbin-Watson:     </th> <td>   1.958</td> \n",
       "</tr>\n",
       "<tr>\n",
       "  <th>Prob(Omnibus):</th> <td> 0.000</td>  <th>  Jarque-Bera (JB):  </th> <td>17531.876</td>\n",
       "</tr>\n",
       "<tr>\n",
       "  <th>Skew:</th>          <td> 3.851</td>  <th>  Prob(JB):          </th> <td>    0.00</td> \n",
       "</tr>\n",
       "<tr>\n",
       "  <th>Kurtosis:</th>      <td>35.463</td>  <th>  Cond. No.          </th> <td>    3.17</td> \n",
       "</tr>\n",
       "</table><br/><br/>Notes:<br/>[1] Standard Errors assume that the covariance matrix of the errors is correctly specified."
      ],
      "text/plain": [
       "<class 'statsmodels.iolib.summary.Summary'>\n",
       "\"\"\"\n",
       "                            OLS Regression Results                            \n",
       "==============================================================================\n",
       "Dep. Variable:                 crmrte   R-squared:                       0.454\n",
       "Model:                            OLS   Adj. R-squared:                  0.453\n",
       "Method:                 Least Squares   F-statistic:                     312.8\n",
       "Date:                Sat, 27 Aug 2022   Prob (F-statistic):           2.31e-51\n",
       "Time:                        11:54:25   Log-Likelihood:                 1091.1\n",
       "No. Observations:                 378   AIC:                            -2178.\n",
       "Df Residuals:                     376   BIC:                            -2170.\n",
       "Df Model:                           1                                         \n",
       "Covariance Type:            nonrobust                                         \n",
       "==============================================================================\n",
       "                 coef    std err          t      P>|t|      [0.025      0.975]\n",
       "------------------------------------------------------------------------------\n",
       "const          0.0194      0.001     20.024      0.000       0.017       0.021\n",
       "density        0.0085      0.000     17.685      0.000       0.008       0.009\n",
       "==============================================================================\n",
       "Omnibus:                      360.906   Durbin-Watson:                   1.958\n",
       "Prob(Omnibus):                  0.000   Jarque-Bera (JB):            17531.876\n",
       "Skew:                           3.851   Prob(JB):                         0.00\n",
       "Kurtosis:                      35.463   Cond. No.                         3.17\n",
       "==============================================================================\n",
       "\n",
       "Notes:\n",
       "[1] Standard Errors assume that the covariance matrix of the errors is correctly specified.\n",
       "\"\"\""
      ]
     },
     "execution_count": 45,
     "metadata": {},
     "output_type": "execute_result"
    }
   ],
   "source": [
    "crime_fr.summary()"
   ]
  },
  {
   "cell_type": "code",
   "execution_count": 51,
   "id": "74be01ea",
   "metadata": {},
   "outputs": [
    {
     "data": {
      "image/png": "[encoded data removed]",
      "text/plain": [
       "<Figure size 432x288 with 1 Axes>"
      ]
     },
     "metadata": {
      "needs_background": "light"
     },
     "output_type": "display_data"
    }
   ],
   "source": [
    "#Visualize the rgresion\n",
    "plt.scatter(x_train, y_train)\n",
    "plt.plot(x_train, 0.019380+0.008522*x_train, 'r')\n",
    "plt.show()\n",
    "            \n",
    "#const      0.019380\n",
    "#density    0.008522"
   ]
  },
  {
   "cell_type": "code",
   "execution_count": 52,
   "id": "a571c009",
   "metadata": {},
   "outputs": [],
   "source": [
    "#generating the residual\n",
    "yhat = crime_fr.predict(x_train_sm)\n",
    "err = (y_train - yhat)"
   ]
  },
  {
   "cell_type": "code",
   "execution_count": 57,
   "id": "316172b2",
   "metadata": {},
   "outputs": [
    {
     "name": "stderr",
     "output_type": "stream",
     "text": [
      "C:\\Users\\LENOVO\\anaconda\\lib\\site-packages\\seaborn\\distributions.py:2619: FutureWarning: `distplot` is a deprecated function and will be removed in a future version. Please adapt your code to use either `displot` (a figure-level function with similar flexibility) or `histplot` (an axes-level function for histograms).\n",
      "  warnings.warn(msg, FutureWarning)\n"
     ]
    },
    {
     "data": {
      "image/png": "[encoded data removed]",
      "text/plain": [
       "<Figure size 432x288 with 1 Axes>"
      ]
     },
     "metadata": {
      "needs_background": "light"
     },
     "output_type": "display_data"
    }
   ],
   "source": [
    "#generating figure\n",
    "fig = plt.figure()\n",
    "sns.distplot(err, bins=15)\n",
    "plt.title('Residual', fontsize=18)\n",
    "plt.xlabel('Error Term', fontsize=12)\n",
    "plt.ylabel('Density', fontsize=12)\n",
    "plt.show()"
   ]
  },
  {
   "cell_type": "code",
   "execution_count": 59,
   "id": "7683e092",
   "metadata": {},
   "outputs": [
    {
     "data": {
      "text/plain": [
       "396    0.071111\n",
       "136    0.034840\n",
       "388    0.030443\n",
       "75     0.041364\n",
       "471    0.029609\n",
       "         ...   \n",
       "129    0.025467\n",
       "190    0.023646\n",
       "240    0.024666\n",
       "100    0.023721\n",
       "254    0.025936\n",
       "Length: 252, dtype: float64"
      ]
     },
     "execution_count": 59,
     "metadata": {},
     "output_type": "execute_result"
    }
   ],
   "source": [
    "x_test_sm=sm.add_constant(x_test)\n",
    "y_test_pred=crime_fr.predict(x_test_sm)\n",
    "y_test_pred"
   ]
  },
  {
   "cell_type": "code",
   "execution_count": 60,
   "id": "6b6274b2",
   "metadata": {},
   "outputs": [
    {
     "data": {
      "text/plain": [
       "0.5225385763398582"
      ]
     },
     "execution_count": 60,
     "metadata": {},
     "output_type": "execute_result"
    }
   ],
   "source": [
    "r_squared=r2_score(y_test, y_test_pred)\n",
    "r_squared"
   ]
  },
  {
   "cell_type": "markdown",
   "id": "d33a15d8",
   "metadata": {},
   "source": [
    "## Multiple Regression"
   ]
  },
  {
   "cell_type": "code",
   "execution_count": 74,
   "id": "07f9ac00",
   "metadata": {},
   "outputs": [
    {
     "name": "stderr",
     "output_type": "stream",
     "text": [
      "C:\\Users\\LENOVO\\anaconda\\lib\\site-packages\\statsmodels\\tsa\\tsatools.py:142: FutureWarning: In a future version of pandas all arguments of concat except for the argument 'objs' will be keyword-only\n",
      "  x = pd.concat(x[::order], 1)\n"
     ]
    }
   ],
   "source": [
    "Y=df['crmrte']\n",
    "X=df[['density', 'prbarr', 'lawage', 'urban']]\n",
    "X=sm.add_constant(X)"
   ]
  },
  {
   "cell_type": "code",
   "execution_count": 75,
   "id": "e42bc6ba",
   "metadata": {},
   "outputs": [
    {
     "data": {
      "text/html": [
       "<table class=\"simpletable\">\n",
       "<caption>OLS Regression Results</caption>\n",
       "<tr>\n",
       "  <th>Dep. Variable:</th>         <td>crmrte</td>      <th>  R-squared:         </th> <td>   0.513</td>\n",
       "</tr>\n",
       "<tr>\n",
       "  <th>Model:</th>                   <td>OLS</td>       <th>  Adj. R-squared:    </th> <td>   0.510</td>\n",
       "</tr>\n",
       "<tr>\n",
       "  <th>Method:</th>             <td>Least Squares</td>  <th>  F-statistic:       </th> <td>   164.6</td>\n",
       "</tr>\n",
       "<tr>\n",
       "  <th>Date:</th>             <td>Sat, 27 Aug 2022</td> <th>  Prob (F-statistic):</th> <td>3.46e-96</td>\n",
       "</tr>\n",
       "<tr>\n",
       "  <th>Time:</th>                 <td>13:23:47</td>     <th>  Log-Likelihood:    </th> <td>  1860.0</td>\n",
       "</tr>\n",
       "<tr>\n",
       "  <th>No. Observations:</th>      <td>   630</td>      <th>  AIC:               </th> <td>  -3710.</td>\n",
       "</tr>\n",
       "<tr>\n",
       "  <th>Df Residuals:</th>          <td>   625</td>      <th>  BIC:               </th> <td>  -3688.</td>\n",
       "</tr>\n",
       "<tr>\n",
       "  <th>Df Model:</th>              <td>     4</td>      <th>                     </th>     <td> </td>   \n",
       "</tr>\n",
       "<tr>\n",
       "  <th>Covariance Type:</th>      <td>nonrobust</td>    <th>                     </th>     <td> </td>   \n",
       "</tr>\n",
       "</table>\n",
       "<table class=\"simpletable\">\n",
       "<tr>\n",
       "     <td></td>        <th>coef</th>     <th>std err</th>      <th>t</th>      <th>P>|t|</th>  <th>[0.025</th>    <th>0.975]</th>  \n",
       "</tr>\n",
       "<tr>\n",
       "  <th>const</th>   <td>    0.0303</td> <td>    0.018</td> <td>    1.666</td> <td> 0.096</td> <td>   -0.005</td> <td>    0.066</td>\n",
       "</tr>\n",
       "<tr>\n",
       "  <th>density</th> <td>    0.0082</td> <td>    0.001</td> <td>   12.650</td> <td> 0.000</td> <td>    0.007</td> <td>    0.009</td>\n",
       "</tr>\n",
       "<tr>\n",
       "  <th>prbarr</th>  <td>   -0.0195</td> <td>    0.003</td> <td>   -6.324</td> <td> 0.000</td> <td>   -0.026</td> <td>   -0.013</td>\n",
       "</tr>\n",
       "<tr>\n",
       "  <th>lawage</th>  <td>   -0.0007</td> <td>    0.003</td> <td>   -0.218</td> <td> 0.828</td> <td>   -0.007</td> <td>    0.006</td>\n",
       "</tr>\n",
       "<tr>\n",
       "  <th>urban</th>   <td>   -0.0001</td> <td>    0.003</td> <td>   -0.033</td> <td> 0.974</td> <td>   -0.006</td> <td>    0.006</td>\n",
       "</tr>\n",
       "</table>\n",
       "<table class=\"simpletable\">\n",
       "<tr>\n",
       "  <th>Omnibus:</th>       <td>489.183</td> <th>  Durbin-Watson:     </th> <td>   0.671</td> \n",
       "</tr>\n",
       "<tr>\n",
       "  <th>Prob(Omnibus):</th> <td> 0.000</td>  <th>  Jarque-Bera (JB):  </th> <td>16297.144</td>\n",
       "</tr>\n",
       "<tr>\n",
       "  <th>Skew:</th>          <td> 3.100</td>  <th>  Prob(JB):          </th> <td>    0.00</td> \n",
       "</tr>\n",
       "<tr>\n",
       "  <th>Kurtosis:</th>      <td>27.133</td>  <th>  Cond. No.          </th> <td>    216.</td> \n",
       "</tr>\n",
       "</table><br/><br/>Notes:<br/>[1] Standard Errors assume that the covariance matrix of the errors is correctly specified."
      ],
      "text/plain": [
       "<class 'statsmodels.iolib.summary.Summary'>\n",
       "\"\"\"\n",
       "                            OLS Regression Results                            \n",
       "==============================================================================\n",
       "Dep. Variable:                 crmrte   R-squared:                       0.513\n",
       "Model:                            OLS   Adj. R-squared:                  0.510\n",
       "Method:                 Least Squares   F-statistic:                     164.6\n",
       "Date:                Sat, 27 Aug 2022   Prob (F-statistic):           3.46e-96\n",
       "Time:                        13:23:47   Log-Likelihood:                 1860.0\n",
       "No. Observations:                 630   AIC:                            -3710.\n",
       "Df Residuals:                     625   BIC:                            -3688.\n",
       "Df Model:                           4                                         \n",
       "Covariance Type:            nonrobust                                         \n",
       "==============================================================================\n",
       "                 coef    std err          t      P>|t|      [0.025      0.975]\n",
       "------------------------------------------------------------------------------\n",
       "const          0.0303      0.018      1.666      0.096      -0.005       0.066\n",
       "density        0.0082      0.001     12.650      0.000       0.007       0.009\n",
       "prbarr        -0.0195      0.003     -6.324      0.000      -0.026      -0.013\n",
       "lawage        -0.0007      0.003     -0.218      0.828      -0.007       0.006\n",
       "urban         -0.0001      0.003     -0.033      0.974      -0.006       0.006\n",
       "==============================================================================\n",
       "Omnibus:                      489.183   Durbin-Watson:                   0.671\n",
       "Prob(Omnibus):                  0.000   Jarque-Bera (JB):            16297.144\n",
       "Skew:                           3.100   Prob(JB):                         0.00\n",
       "Kurtosis:                      27.133   Cond. No.                         216.\n",
       "==============================================================================\n",
       "\n",
       "Notes:\n",
       "[1] Standard Errors assume that the covariance matrix of the errors is correctly specified.\n",
       "\"\"\""
      ]
     },
     "execution_count": 75,
     "metadata": {},
     "output_type": "execute_result"
    }
   ],
   "source": [
    "crime_fr=sm.OLS(Y,X)\n",
    "crime_fr_res=crime_fr.fit()\n",
    "crime_fr_res.summary()"
   ]
  },
  {
   "cell_type": "code",
   "execution_count": 76,
   "id": "3acd9788",
   "metadata": {},
   "outputs": [
    {
     "data": {
      "image/png": "[encoded data removed]",
      "text/plain": [
       "<Figure size 432x288 with 1 Axes>"
      ]
     },
     "metadata": {
      "needs_background": "light"
     },
     "output_type": "display_data"
    }
   ],
   "source": [
    "coeff=crime_fr_res.params\n",
    "coeff=coeff.iloc[(coeff.abs()*-1.0).argsort()]\n",
    "sns.barplot(x=coeff.values, y=coeff.index, orient='h');"
   ]
  },
  {
   "cell_type": "markdown",
   "id": "d6534def",
   "metadata": {},
   "source": [
    "## Logistic Regresion"
   ]
  },
  {
   "cell_type": "code",
   "execution_count": 79,
   "id": "c12bb87f",
   "metadata": {},
   "outputs": [
    {
     "name": "stderr",
     "output_type": "stream",
     "text": [
      "C:\\Users\\LENOVO\\anaconda\\lib\\site-packages\\statsmodels\\tsa\\tsatools.py:142: FutureWarning: In a future version of pandas all arguments of concat except for the argument 'objs' will be keyword-only\n",
      "  x = pd.concat(x[::order], 1)\n"
     ]
    }
   ],
   "source": [
    "Y=df['crime']\n",
    "X=df[['density', 'prbarr', 'prbconv', 'lawage', 'urban']]\n",
    "X=sm.add_constant(X)"
   ]
  },
  {
   "cell_type": "code",
   "execution_count": 80,
   "id": "beab8be7",
   "metadata": {},
   "outputs": [],
   "source": [
    "X_train, X_test, Y_train, Y_test=train_test_split(X,Y,train_size=0.6, test_size=0.4, random_state=100)"
   ]
  },
  {
   "cell_type": "code",
   "execution_count": 83,
   "id": "5f04bc19",
   "metadata": {},
   "outputs": [
    {
     "data": {
      "text/plain": [
       "array([1, 1, 0, 1, 0, 0, 0, 0, 0, 0, 0, 0, 1, 0, 0, 1, 0, 0, 1, 0, 0, 0,\n",
       "       0, 0, 0, 1, 0, 1, 0, 0, 0, 0, 0, 0, 1, 0, 0, 0, 1, 0, 1, 1, 1, 0,\n",
       "       0, 0, 0, 0, 0, 0, 1, 0, 0, 1, 0, 0, 0, 0, 0, 0, 0, 0, 0, 0, 1, 0,\n",
       "       0, 0, 0, 1, 1, 0, 1, 0, 0, 1, 0, 1, 0, 0, 0, 0, 1, 0, 0, 0, 0, 0,\n",
       "       0, 1, 0, 0, 0, 0, 0, 0, 0, 0, 1, 0, 0, 0, 0, 0, 0, 0, 0, 0, 0, 0,\n",
       "       0, 0, 0, 0, 0, 0, 0, 1, 0, 1, 0, 0, 0, 1, 1, 1, 1, 0, 0, 0, 0, 0,\n",
       "       0, 0, 1, 0, 1, 0, 0, 0, 0, 0, 0, 0, 0, 0, 0, 0, 0, 0, 0, 0, 0, 0,\n",
       "       0, 0, 0, 1, 1, 0, 0, 0, 0, 1, 0, 0, 1, 0, 0, 0, 0, 0, 1, 1, 0, 1,\n",
       "       1, 0, 0, 0, 1, 0, 1, 0, 0, 0, 0, 0, 0, 1, 0, 0, 0, 0, 0, 1, 0, 0,\n",
       "       0, 0, 0, 0, 1, 0, 1, 0, 1, 1, 0, 0, 0, 1, 0, 0, 1, 0, 1, 0, 0, 0,\n",
       "       1, 0, 1, 0, 1, 0, 0, 0, 0, 0, 0, 0, 0, 1, 0, 0, 0, 0, 0, 0, 1, 0,\n",
       "       1, 0, 1, 1, 1, 0, 0, 0, 0, 0], dtype=int64)"
      ]
     },
     "execution_count": 83,
     "metadata": {},
     "output_type": "execute_result"
    }
   ],
   "source": [
    "crime_prob=LogisticRegression()\n",
    "crime_prob.fit(X_train, Y_train)\n",
    "crime_pred=crime_prob.predict(X_test)\n",
    "crime_pred"
   ]
  },
  {
   "cell_type": "code",
   "execution_count": 84,
   "id": "cb16d4e1",
   "metadata": {},
   "outputs": [
    {
     "data": {
      "text/plain": [
       "0.7777777777777778"
      ]
     },
     "execution_count": 84,
     "metadata": {},
     "output_type": "execute_result"
    }
   ],
   "source": [
    "crime_prob.score(X_test, Y_test)"
   ]
  },
  {
   "cell_type": "code",
   "execution_count": null,
   "id": "c2f031c0",
   "metadata": {},
   "outputs": [],
   "source": []
  }
 ],
 "metadata": {
  "kernelspec": {
   "display_name": "Python 3 (ipykernel)",
   "language": "python",
   "name": "python3"
  },
  "language_info": {
   "codemirror_mode": {
    "name": "ipython",
    "version": 3
   },
   "file_extension": ".py",
   "mimetype": "text/x-python",
   "name": "python",
   "nbconvert_exporter": "python",
   "pygments_lexer": "ipython3",
   "version": "3.9.7"
  }
 },
 "nbformat": 4,
 "nbformat_minor": 5
}
